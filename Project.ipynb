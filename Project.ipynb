{
 "cells": [
  {
   "cell_type": "markdown",
   "metadata": {},
   "source": [
    "# HR Analytics"
   ]
  },
  {
   "cell_type": "markdown",
   "metadata": {},
   "source": [
    "This notebook addresses:\n",
    "1. Why are company's best and most experienced employees leaving prematurely?\n",
    "2. Try to predict which valuable employee will leave next.\n",
    "3. Build a system which may assist in staff retention\n",
    "\n",
    "The HR analytics dataset is obtained from Kaggle [Human Resources Analytics](https://www.kaggle.com/ludobenistant/hr-analytics) dataset.\n",
    "\n",
    "It shows details for last 5 years and contains the following fields:\n",
    "\n",
    "* Employee satisfaction level, (range 0 to 1)\n",
    "* Last evaluation, (range 0 to 1)\n",
    "* Number of projects\n",
    "* Average monthly, (in hours)\n",
    "* Time spent at the company, (in years)\n",
    "* Number of work accident\n",
    "* Promotions in the last 5 years\n",
    "* Sales (or job function)\n",
    "* Salary (low, medium or high)\n",
    "* Whether the employee has left the company or not\n"
   ]
  },
  {
   "cell_type": "markdown",
   "metadata": {},
   "source": [
    "### Inital analysis of the dataset"
   ]
  },
  {
   "cell_type": "code",
   "execution_count": 13,
   "metadata": {
    "collapsed": true
   },
   "outputs": [],
   "source": [
    "import pandas as pd\n",
    "import numpy as np\n",
    "\n",
    "import matplotlib.pyplot as plt\n",
    "%matplotlib inline"
   ]
  },
  {
   "cell_type": "code",
   "execution_count": 14,
   "metadata": {
    "collapsed": false
   },
   "outputs": [
    {
     "data": {
      "text/plain": "   satisfaction_level  last_evaluation  number_project  average_montly_hours  \\\n0                0.38             0.53               2                   157   \n1                0.80             0.86               5                   262   \n2                0.11             0.88               7                   272   \n3                0.72             0.87               5                   223   \n4                0.37             0.52               2                   159   \n\n   time_spend_company  Work_accident  left  promotion_last_5years  sales  \\\n0                   3              0     1                      0  sales   \n1                   6              0     1                      0  sales   \n2                   4              0     1                      0  sales   \n3                   5              0     1                      0  sales   \n4                   3              0     1                      0  sales   \n\n   salary  \n0     low  \n1  medium  \n2  medium  \n3     low  \n4     low  ",
      "text/html": "<div>\n<style scoped>\n    .dataframe tbody tr th:only-of-type {\n        vertical-align: middle;\n    }\n\n    .dataframe tbody tr th {\n        vertical-align: top;\n    }\n\n    .dataframe thead th {\n        text-align: right;\n    }\n</style>\n<table border=\"1\" class=\"dataframe\">\n  <thead>\n    <tr style=\"text-align: right;\">\n      <th></th>\n      <th>satisfaction_level</th>\n      <th>last_evaluation</th>\n      <th>number_project</th>\n      <th>average_montly_hours</th>\n      <th>time_spend_company</th>\n      <th>Work_accident</th>\n      <th>left</th>\n      <th>promotion_last_5years</th>\n      <th>sales</th>\n      <th>salary</th>\n    </tr>\n  </thead>\n  <tbody>\n    <tr>\n      <th>0</th>\n      <td>0.38</td>\n      <td>0.53</td>\n      <td>2</td>\n      <td>157</td>\n      <td>3</td>\n      <td>0</td>\n      <td>1</td>\n      <td>0</td>\n      <td>sales</td>\n      <td>low</td>\n    </tr>\n    <tr>\n      <th>1</th>\n      <td>0.80</td>\n      <td>0.86</td>\n      <td>5</td>\n      <td>262</td>\n      <td>6</td>\n      <td>0</td>\n      <td>1</td>\n      <td>0</td>\n      <td>sales</td>\n      <td>medium</td>\n    </tr>\n    <tr>\n      <th>2</th>\n      <td>0.11</td>\n      <td>0.88</td>\n      <td>7</td>\n      <td>272</td>\n      <td>4</td>\n      <td>0</td>\n      <td>1</td>\n      <td>0</td>\n      <td>sales</td>\n      <td>medium</td>\n    </tr>\n    <tr>\n      <th>3</th>\n      <td>0.72</td>\n      <td>0.87</td>\n      <td>5</td>\n      <td>223</td>\n      <td>5</td>\n      <td>0</td>\n      <td>1</td>\n      <td>0</td>\n      <td>sales</td>\n      <td>low</td>\n    </tr>\n    <tr>\n      <th>4</th>\n      <td>0.37</td>\n      <td>0.52</td>\n      <td>2</td>\n      <td>159</td>\n      <td>3</td>\n      <td>0</td>\n      <td>1</td>\n      <td>0</td>\n      <td>sales</td>\n      <td>low</td>\n    </tr>\n  </tbody>\n</table>\n</div>"
     },
     "execution_count": 14,
     "metadata": {},
     "output_type": "execute_result"
    }
   ],
   "source": [
    "employees = pd.read_csv('HR_comma_sep.csv')\n",
    "employees.head()"
   ]
  },
  {
   "cell_type": "markdown",
   "metadata": {},
   "source": [
    "### Data Preprocessing:\n",
    "The sales are salary features are not numeric. So we need to do some preprocessing to convert them to numbers."
   ]
  },
  {
   "cell_type": "code",
   "execution_count": 15,
   "metadata": {
    "collapsed": false
   },
   "outputs": [],
   "source": [
    "employees['salary'] = pd.factorize(employees['salary'])[0]\n",
    "employees['sales'] = pd.factorize(employees['sales'])[0]"
   ]
  },
  {
   "cell_type": "markdown",
   "metadata": {},
   "source": [
    "Average values in different fields:"
   ]
  },
  {
   "cell_type": "code",
   "execution_count": 16,
   "metadata": {
    "collapsed": false
   },
   "outputs": [
    {
     "data": {
      "text/plain": "satisfaction_level         0.612834\nlast_evaluation            0.716102\nnumber_project             3.803054\naverage_montly_hours     201.050337\ntime_spend_company         3.498233\nWork_accident              0.144610\nleft                       0.238083\npromotion_last_5years      0.021268\nsales                      3.339823\nsalary                     0.594706\ndtype: float64"
     },
     "execution_count": 16,
     "metadata": {},
     "output_type": "execute_result"
    }
   ],
   "source": [
    "employees.mean()"
   ]
  },
  {
   "cell_type": "markdown",
   "metadata": {},
   "source": [
    "### Check correlation between features\n",
    "To find out which feature affects the attrition the most, we calculate the correlation between different features."
   ]
  },
  {
   "cell_type": "code",
   "execution_count": 17,
   "metadata": {
    "collapsed": false
   },
   "outputs": [
    {
     "data": {
      "text/plain": "                       satisfaction_level  last_evaluation  number_project  \\\nsatisfaction_level               1.000000         0.105021       -0.142970   \nlast_evaluation                  0.105021         1.000000        0.349333   \nnumber_project                  -0.142970         0.349333        1.000000   \naverage_montly_hours            -0.020048         0.339742        0.417211   \ntime_spend_company              -0.100866         0.131591        0.196786   \nWork_accident                    0.058697        -0.007104       -0.004741   \nleft                            -0.388375         0.006567        0.023787   \npromotion_last_5years            0.025605        -0.008684       -0.006064   \nsales                            0.015413         0.011855        0.005577   \nsalary                           0.050022        -0.013002       -0.001803   \n\n                       average_montly_hours  time_spend_company  \\\nsatisfaction_level                -0.020048           -0.100866   \nlast_evaluation                    0.339742            0.131591   \nnumber_project                     0.417211            0.196786   \naverage_montly_hours               1.000000            0.127755   \ntime_spend_company                 0.127755            1.000000   \nWork_accident                     -0.010143            0.002120   \nleft                               0.071287            0.144822   \npromotion_last_5years             -0.003544            0.067433   \nsales                             -0.002387           -0.001611   \nsalary                            -0.002242            0.048715   \n\n                       Work_accident      left  promotion_last_5years  \\\nsatisfaction_level          0.058697 -0.388375               0.025605   \nlast_evaluation            -0.007104  0.006567              -0.008684   \nnumber_project             -0.004741  0.023787              -0.006064   \naverage_montly_hours       -0.010143  0.071287              -0.003544   \ntime_spend_company          0.002120  0.144822               0.067433   \nWork_accident               1.000000 -0.154622               0.039245   \nleft                       -0.154622  1.000000              -0.061788   \npromotion_last_5years       0.039245 -0.061788               1.000000   \nsales                       0.019215 -0.043814               0.015170   \nsalary                      0.009247 -0.157898               0.098119   \n\n                          sales    salary  \nsatisfaction_level     0.015413  0.050022  \nlast_evaluation        0.011855 -0.013002  \nnumber_project         0.005577 -0.001803  \naverage_montly_hours  -0.002387 -0.002242  \ntime_spend_company    -0.001611  0.048715  \nWork_accident          0.019215  0.009247  \nleft                  -0.043814 -0.157898  \npromotion_last_5years  0.015170  0.098119  \nsales                  1.000000  0.033415  \nsalary                 0.033415  1.000000  ",
      "text/html": "<div>\n<style scoped>\n    .dataframe tbody tr th:only-of-type {\n        vertical-align: middle;\n    }\n\n    .dataframe tbody tr th {\n        vertical-align: top;\n    }\n\n    .dataframe thead th {\n        text-align: right;\n    }\n</style>\n<table border=\"1\" class=\"dataframe\">\n  <thead>\n    <tr style=\"text-align: right;\">\n      <th></th>\n      <th>satisfaction_level</th>\n      <th>last_evaluation</th>\n      <th>number_project</th>\n      <th>average_montly_hours</th>\n      <th>time_spend_company</th>\n      <th>Work_accident</th>\n      <th>left</th>\n      <th>promotion_last_5years</th>\n      <th>sales</th>\n      <th>salary</th>\n    </tr>\n  </thead>\n  <tbody>\n    <tr>\n      <th>satisfaction_level</th>\n      <td>1.000000</td>\n      <td>0.105021</td>\n      <td>-0.142970</td>\n      <td>-0.020048</td>\n      <td>-0.100866</td>\n      <td>0.058697</td>\n      <td>-0.388375</td>\n      <td>0.025605</td>\n      <td>0.015413</td>\n      <td>0.050022</td>\n    </tr>\n    <tr>\n      <th>last_evaluation</th>\n      <td>0.105021</td>\n      <td>1.000000</td>\n      <td>0.349333</td>\n      <td>0.339742</td>\n      <td>0.131591</td>\n      <td>-0.007104</td>\n      <td>0.006567</td>\n      <td>-0.008684</td>\n      <td>0.011855</td>\n      <td>-0.013002</td>\n    </tr>\n    <tr>\n      <th>number_project</th>\n      <td>-0.142970</td>\n      <td>0.349333</td>\n      <td>1.000000</td>\n      <td>0.417211</td>\n      <td>0.196786</td>\n      <td>-0.004741</td>\n      <td>0.023787</td>\n      <td>-0.006064</td>\n      <td>0.005577</td>\n      <td>-0.001803</td>\n    </tr>\n    <tr>\n      <th>average_montly_hours</th>\n      <td>-0.020048</td>\n      <td>0.339742</td>\n      <td>0.417211</td>\n      <td>1.000000</td>\n      <td>0.127755</td>\n      <td>-0.010143</td>\n      <td>0.071287</td>\n      <td>-0.003544</td>\n      <td>-0.002387</td>\n      <td>-0.002242</td>\n    </tr>\n    <tr>\n      <th>time_spend_company</th>\n      <td>-0.100866</td>\n      <td>0.131591</td>\n      <td>0.196786</td>\n      <td>0.127755</td>\n      <td>1.000000</td>\n      <td>0.002120</td>\n      <td>0.144822</td>\n      <td>0.067433</td>\n      <td>-0.001611</td>\n      <td>0.048715</td>\n    </tr>\n    <tr>\n      <th>Work_accident</th>\n      <td>0.058697</td>\n      <td>-0.007104</td>\n      <td>-0.004741</td>\n      <td>-0.010143</td>\n      <td>0.002120</td>\n      <td>1.000000</td>\n      <td>-0.154622</td>\n      <td>0.039245</td>\n      <td>0.019215</td>\n      <td>0.009247</td>\n    </tr>\n    <tr>\n      <th>left</th>\n      <td>-0.388375</td>\n      <td>0.006567</td>\n      <td>0.023787</td>\n      <td>0.071287</td>\n      <td>0.144822</td>\n      <td>-0.154622</td>\n      <td>1.000000</td>\n      <td>-0.061788</td>\n      <td>-0.043814</td>\n      <td>-0.157898</td>\n    </tr>\n    <tr>\n      <th>promotion_last_5years</th>\n      <td>0.025605</td>\n      <td>-0.008684</td>\n      <td>-0.006064</td>\n      <td>-0.003544</td>\n      <td>0.067433</td>\n      <td>0.039245</td>\n      <td>-0.061788</td>\n      <td>1.000000</td>\n      <td>0.015170</td>\n      <td>0.098119</td>\n    </tr>\n    <tr>\n      <th>sales</th>\n      <td>0.015413</td>\n      <td>0.011855</td>\n      <td>0.005577</td>\n      <td>-0.002387</td>\n      <td>-0.001611</td>\n      <td>0.019215</td>\n      <td>-0.043814</td>\n      <td>0.015170</td>\n      <td>1.000000</td>\n      <td>0.033415</td>\n    </tr>\n    <tr>\n      <th>salary</th>\n      <td>0.050022</td>\n      <td>-0.013002</td>\n      <td>-0.001803</td>\n      <td>-0.002242</td>\n      <td>0.048715</td>\n      <td>0.009247</td>\n      <td>-0.157898</td>\n      <td>0.098119</td>\n      <td>0.033415</td>\n      <td>1.000000</td>\n    </tr>\n  </tbody>\n</table>\n</div>"
     },
     "execution_count": 17,
     "metadata": {},
     "output_type": "execute_result"
    }
   ],
   "source": [
    "correlation_matrix = employees.corr(method='pearson')\n",
    "correlation_matrix"
   ]
  },
  {
   "cell_type": "code",
   "execution_count": 18,
   "metadata": {
    "collapsed": false
   },
   "outputs": [
    {
     "data": {
      "text/plain": "<Figure size 432x288 with 2 Axes>",
      "image/png": "[encoded data removed]"
     },
     "metadata": {
      "needs_background": "light"
     },
     "output_type": "display_data"
    }
   ],
   "source": [
    "# To plot the correlation_matrix:\n",
    "import seaborn as maps\n",
    "maps.heatmap(correlation_matrix, vmax = .8, square = True)\n",
    "plt.show()"
   ]
  },
  {
   "cell_type": "markdown",
   "metadata": {},
   "source": [
    "From the above graph, it is clear that people who left have lower satisfaction level, had low salary and number of years spent in the company is high. So we can deduce that company is losing its experienced employees due to low salary and low satisfaction levels."
   ]
  },
  {
   "cell_type": "code",
   "execution_count": 19,
   "metadata": {
    "collapsed": false
   },
   "outputs": [
    {
     "data": {
      "text/plain": "                           left\ntime_spend_company     0.144822\naverage_montly_hours   0.071287\nnumber_project         0.023787\nlast_evaluation        0.006567\nsales                 -0.043814\npromotion_last_5years -0.061788\nWork_accident         -0.154622\nsalary                -0.157898\nsatisfaction_level    -0.388375",
      "text/html": "<div>\n<style scoped>\n    .dataframe tbody tr th:only-of-type {\n        vertical-align: middle;\n    }\n\n    .dataframe tbody tr th {\n        vertical-align: top;\n    }\n\n    .dataframe thead th {\n        text-align: right;\n    }\n</style>\n<table border=\"1\" class=\"dataframe\">\n  <thead>\n    <tr style=\"text-align: right;\">\n      <th></th>\n      <th>left</th>\n    </tr>\n  </thead>\n  <tbody>\n    <tr>\n      <th>time_spend_company</th>\n      <td>0.144822</td>\n    </tr>\n    <tr>\n      <th>average_montly_hours</th>\n      <td>0.071287</td>\n    </tr>\n    <tr>\n      <th>number_project</th>\n      <td>0.023787</td>\n    </tr>\n    <tr>\n      <th>last_evaluation</th>\n      <td>0.006567</td>\n    </tr>\n    <tr>\n      <th>sales</th>\n      <td>-0.043814</td>\n    </tr>\n    <tr>\n      <th>promotion_last_5years</th>\n      <td>-0.061788</td>\n    </tr>\n    <tr>\n      <th>Work_accident</th>\n      <td>-0.154622</td>\n    </tr>\n    <tr>\n      <th>salary</th>\n      <td>-0.157898</td>\n    </tr>\n    <tr>\n      <th>satisfaction_level</th>\n      <td>-0.388375</td>\n    </tr>\n  </tbody>\n</table>\n</div>"
     },
     "execution_count": 19,
     "metadata": {},
     "output_type": "execute_result"
    }
   ],
   "source": [
    "corr_left=pd.DataFrame(correlation_matrix['left'].drop('left').sort_values(ascending=False))\n",
    "corr_left"
   ]
  },
  {
   "cell_type": "markdown",
   "metadata": {},
   "source": [
    "### Distribution of some interesting features\n",
    "\n",
    "Visualize effect of some of the interesting features on whether the employee has left or not."
   ]
  },
  {
   "cell_type": "code",
   "execution_count": 20,
   "metadata": {
    "collapsed": false
   },
   "outputs": [
    {
     "data": {
      "text/plain": "<AxesSubplot:xlabel='salary', ylabel='left'>"
     },
     "execution_count": 20,
     "metadata": {},
     "output_type": "execute_result"
    },
    {
     "data": {
      "text/plain": "<Figure size 432x288 with 1 Axes>",
      "image/png": "[encoded data removed]"
     },
     "metadata": {
      "needs_background": "light"
     },
     "output_type": "display_data"
    }
   ],
   "source": [
    "maps.barplot(x = 'salary', y = 'left', data = employees)"
   ]
  },
  {
   "cell_type": "markdown",
   "metadata": {},
   "source": [
    "We see that people with less salary are more likely to leave the company"
   ]
  },
  {
   "cell_type": "code",
   "execution_count": 21,
   "metadata": {
    "collapsed": false
   },
   "outputs": [
    {
     "data": {
      "text/plain": "<Figure size 258.375x216 with 1 Axes>",
      "image/png": "[encoded data removed]"
     },
     "metadata": {
      "needs_background": "light"
     },
     "output_type": "display_data"
    },
    {
     "data": {
      "text/plain": "<Figure size 258.375x216 with 1 Axes>",
      "image/png": "[encoded data removed]"
     },
     "metadata": {
      "needs_background": "light"
     },
     "output_type": "display_data"
    },
    {
     "data": {
      "text/plain": "<Figure size 258.375x216 with 1 Axes>",
      "image/png": "[encoded data removed]"
     },
     "metadata": {
      "needs_background": "light"
     },
     "output_type": "display_data"
    }
   ],
   "source": [
    "# For last_evaluation\n",
    "\n",
    "plot_features = ['last_evaluation','satisfaction_level','time_spend_company']\n",
    "\n",
    "for pf in plot_features:\n",
    "    g = maps.FacetGrid(employees, hue=\"left\")\n",
    "    g.map(maps.kdeplot,pf,shade= True)\n",
    "    g.set(xlim=(0, employees[pf].max()))\n",
    "    g.add_legend()"
   ]
  },
  {
   "cell_type": "markdown",
   "metadata": {},
   "source": [
    "Observations from the above graphs:\n",
    "* People who have got low evaluation scores are more likely to leave\n",
    "* People who have moderate satisfaction level (0.4) are more likely to leave.\n",
    "* People who work for more than 6 years or less than 2 years are less likely to leave."
   ]
  },
  {
   "cell_type": "markdown",
   "metadata": {},
   "source": [
    "## Preprocess data for different classifiers:"
   ]
  },
  {
   "cell_type": "code",
   "execution_count": 22,
   "metadata": {
    "collapsed": false
   },
   "outputs": [],
   "source": [
    "# To separate label and features in data\n",
    "labels = np.where(employees['left'] == 1, 1, 0)\n",
    "features = employees.drop('left', axis = 1) #.as_matrix().astype(np.float)\n",
    "label_names = np.unique(labels)\n",
    "feature_names = list(employees.axes[1])"
   ]
  },
  {
   "cell_type": "markdown",
   "metadata": {},
   "source": [
    "Splitting dataset into train and test data"
   ]
  },
  {
   "cell_type": "code",
   "execution_count": 23,
   "metadata": {
    "collapsed": true
   },
   "outputs": [],
   "source": [
    "from sklearn.model_selection import train_test_split\n",
    "X_train, X_test, Y_train, Y_test = train_test_split(features, labels, test_size=0.1, random_state=0)"
   ]
  },
  {
   "cell_type": "markdown",
   "metadata": {},
   "source": [
    "### Comparing Different Classifiers"
   ]
  },
  {
   "cell_type": "code",
   "execution_count": 24,
   "metadata": {
    "collapsed": false
   },
   "outputs": [
    {
     "ename": "SyntaxError",
     "evalue": "Missing parentheses in call to 'print'. Did you mean print('\\nMetric for ' + name)? (710147362.py, line 18)",
     "output_type": "error",
     "traceback": [
      "\u001B[0;36m  File \u001B[0;32m\"/var/folders/jp/qqwx9phd6v7_l2_mnhtr_x040000gn/T/ipykernel_46698/710147362.py\"\u001B[0;36m, line \u001B[0;32m18\u001B[0m\n\u001B[0;31m    print '\\nMetric for ' + name\u001B[0m\n\u001B[0m          ^\u001B[0m\n\u001B[0;31mSyntaxError\u001B[0m\u001B[0;31m:\u001B[0m Missing parentheses in call to 'print'. Did you mean print('\\nMetric for ' + name)?\n"
     ]
    }
   ],
   "source": [
    "from sklearn.neighbors import KNeighborsClassifier\n",
    "from sklearn.tree import DecisionTreeClassifier\n",
    "from sklearn.naive_bayes import MultinomialNB\n",
    "from sklearn.svm import SVC\n",
    "from sklearn.ensemble import VotingClassifier\n",
    "from sklearn import cross_validation, linear_model\n",
    "from sklearn.metrics import accuracy_score\n",
    "from sklearn.model_selection import cross_val_predict\n",
    "from sklearn import metrics\n",
    "\n",
    "classifiers = [[\"KNN\",KNeighborsClassifier(n_neighbors=3, weights='distance')],\n",
    "[\"DT\",DecisionTreeClassifier(random_state=0)],\n",
    "[\"NB\", MultinomialNB()]\n",
    "]\n",
    "\n",
    "classifier_types = []\n",
    "for name, clf in classifiers:\n",
    "    print '\\nMetric for ' + name\n",
    "    cv_predicted = cross_val_predict(clf, X_train, Y_train, cv=5)\n",
    "    print metrics.classification_report(Y_train, cv_predicted)\n",
    "    scores = cross_validation.cross_val_score(clf, X_train, Y_train)\n",
    "    print '\\nCross validation scores: ', scores.mean()\n",
    "\n",
    "    clf.fit(X_train, Y_train)\n",
    "    predictions = clf.predict(X_test)\n",
    "    print 'Accuracy score for '+ name, accuracy_score(Y_test, predictions)\n",
    "    classifier_types.append((name, clf))"
   ]
  },
  {
   "cell_type": "markdown",
   "metadata": {},
   "source": [
    "We observe that <b>Decision tree classifier</b> is the best for this dataset."
   ]
  },
  {
   "cell_type": "markdown",
   "metadata": {},
   "source": [
    "### Predict if employee will leave or not with Decision Tree classifier"
   ]
  },
  {
   "cell_type": "code",
   "execution_count": null,
   "metadata": {
    "collapsed": false
   },
   "outputs": [],
   "source": [
    "from sklearn.tree import export_graphviz\n",
    "from sklearn import tree\n",
    "clf = DecisionTreeClassifier(max_depth=5, min_impurity_split=1e-02)\n",
    "clf = clf.fit(X_train, Y_train)\n",
    "tree.export_graphviz(clf, out_file='tree.dot')"
   ]
  },
  {
   "cell_type": "code",
   "execution_count": null,
   "metadata": {
    "collapsed": false
   },
   "outputs": [],
   "source": [
    "import pydotplus\n",
    "dot_data = tree.export_graphviz(clf, out_file=None)\n",
    "graph = pydotplus.graph_from_dot_data(dot_data)\n",
    "graph.write_pdf(\"tree.pdf\")"
   ]
  },
  {
   "cell_type": "code",
   "execution_count": null,
   "metadata": {
    "collapsed": false
   },
   "outputs": [],
   "source": [
    "from IPython.display import Image\n",
    "dot_data = tree.export_graphviz(clf, out_file=None,\n",
    "                         feature_names=feature_names,\n",
    "                         class_names=str(label_names),\n",
    "                         filled=True, rounded=True,\n",
    "                         special_characters=True\n",
    "                         )\n",
    "graph = pydotplus.graph_from_dot_data(dot_data)\n",
    "graph.write_pdf(\"coloured_tree.pdf\")\n",
    "Image(graph.create_png())"
   ]
  },
  {
   "cell_type": "markdown",
   "metadata": {},
   "source": [
    "To check if the following test employee will leave or not"
   ]
  },
  {
   "cell_type": "code",
   "execution_count": null,
   "metadata": {
    "collapsed": true
   },
   "outputs": [],
   "source": [
    "# Test employee features\n",
    "test = [   0.44,    0.57,    2,    141,      3,      0,      0,      7,      1  ]"
   ]
  },
  {
   "cell_type": "code",
   "execution_count": null,
   "metadata": {
    "collapsed": false
   },
   "outputs": [],
   "source": [
    "predict = clf.predict_proba(np.asarray(test).reshape(-9,9))\n",
    "predict"
   ]
  },
  {
   "cell_type": "markdown",
   "metadata": {},
   "source": [
    "<h4>This employee will leave!!! HR Action needed.</h4>"
   ]
  },
  {
   "cell_type": "markdown",
   "metadata": {},
   "source": [
    "### Retention profile"
   ]
  },
  {
   "cell_type": "code",
   "execution_count": null,
   "metadata": {
    "collapsed": false
   },
   "outputs": [],
   "source": [
    "# Create a dataframe for employees who left.\n",
    "left_df = employees[employees['left'] == 1]\n",
    "\n",
    "# Create a dataframe for employees who stayed.\n",
    "stay_df = employees[employees['left'] == 0]"
   ]
  },
  {
   "cell_type": "code",
   "execution_count": null,
   "metadata": {
    "collapsed": false
   },
   "outputs": [],
   "source": [
    "retention_profile_mean = pd.DataFrame(columns=[list(employees)])\n",
    "retention_profile_mean = retention_profile_mean.drop('left', 1)  # Drop the 'left' column\n",
    "retention_profile_mean = retention_profile_mean.append({'satisfaction_level': stay_df['satisfaction_level'].mean(),\n",
    "                                              'last_evaluation': stay_df['last_evaluation'].mean(),\n",
    "                                              'number_project': stay_df['number_project'].mean(),\n",
    "                                              'average_montly_hours': stay_df['average_montly_hours'].mean(),\n",
    "                                              'time_spend_company': stay_df['time_spend_company'].mean(),\n",
    "                                              'Work_accident': stay_df['Work_accident'].mode(),\n",
    "                                              'promotion_last_5years': stay_df['promotion_last_5years'].mode(),\n",
    "                                              'sales': stay_df['sales'].mean(),\n",
    "                                              'salary': stay_df['salary'].mean()\n",
    "                                             },\n",
    "                                             ignore_index=True)\n",
    "\n",
    "retention_profile_std = pd.DataFrame(columns=[list(employees)])\n",
    "retention_profile_std = retention_profile_std.drop('left', 1)  # Drop the 'left' column\n",
    "retention_profile_std = retention_profile_std.append({'satisfaction_level': stay_df['satisfaction_level'].std(),\n",
    "                                              'last_evaluation': stay_df['last_evaluation'].std(),\n",
    "                                              'number_project': stay_df['number_project'].std(),\n",
    "                                              'average_montly_hours': stay_df['average_montly_hours'].std(),\n",
    "                                              'time_spend_company': stay_df['time_spend_company'].std(),\n",
    "                                              'Work_accident': stay_df['Work_accident'].std(),\n",
    "                                              'promotion_last_5years': stay_df['promotion_last_5years'].std(),\n",
    "                                              'sales': stay_df['sales'].std(),\n",
    "                                              'salary': stay_df['salary'].std()\n",
    "                                             },\n",
    "                                             ignore_index=True)\n",
    "retention_profile_mean\n",
    "#retention_profile_std"
   ]
  },
  {
   "cell_type": "code",
   "execution_count": null,
   "metadata": {
    "collapsed": false
   },
   "outputs": [],
   "source": [
    "# Difference in job satisfaction between the two groups.\n",
    "attrition_satisfaction = round(left_df['satisfaction_level'].mean(), 2)\n",
    "retention_satisfaction = round(stay_df['satisfaction_level'].mean(), 2)"
   ]
  },
  {
   "cell_type": "markdown",
   "metadata": {},
   "source": [
    "### Factors contributing to satisfaction level"
   ]
  },
  {
   "cell_type": "code",
   "execution_count": null,
   "metadata": {
    "collapsed": false
   },
   "outputs": [],
   "source": [
    "# Factors contributing to satisfaction levels among staff who left.\n",
    "print left_df.corr(method='pearson')['satisfaction_level'][1:].sort_values(ascending=False)"
   ]
  },
  {
   "cell_type": "markdown",
   "metadata": {},
   "source": [
    "For satisfaction_level of employee who left the company, from the above correlation we can deduce:\n",
    "* <b>Time spent at the company</b> and the <b>number of projects worked on</b>, have the greatest impact.\n",
    "* Employee’s  <b>average monthly hours</b> and their  <b>last evaluation</b> also have significant impact"
   ]
  },
  {
   "cell_type": "code",
   "execution_count": null,
   "metadata": {
    "collapsed": false
   },
   "outputs": [],
   "source": [
    "# Factors contributing to satisfaction levels among staff who stay.\n",
    "print stay_df.corr(method='pearson')['satisfaction_level'][1:].sort_values(ascending=False)"
   ]
  },
  {
   "cell_type": "code",
   "execution_count": null,
   "metadata": {
    "collapsed": false
   },
   "outputs": [],
   "source": [
    "# Factors correlated to satisfaction_level\n",
    "correlations2 = employees.corr(method='pearson')\n",
    "satisfaction_df = correlations2['satisfaction_level'][1:].abs().sort_values(ascending=False)\n",
    "satisfaction_df = satisfaction_df.drop('left')\n",
    "print(satisfaction_df)"
   ]
  },
  {
   "cell_type": "markdown",
   "metadata": {},
   "source": [
    "<b>number_project</b>, <b>last_evaluation</b> and <b>time_spend_company</b> are the top three factors contributing to high satisfaction level amongst employees"
   ]
  },
  {
   "cell_type": "markdown",
   "metadata": {},
   "source": [
    "## Increase satisfaction level"
   ]
  },
  {
   "cell_type": "code",
   "execution_count": null,
   "metadata": {
    "collapsed": false
   },
   "outputs": [],
   "source": [
    "# To separate label and features in data\n",
    "X_train_ = X_train[:, 1:]\n",
    "X_test_ = X_test[:, 1:]\n",
    "y_train_ = X_train[:, 0]\n",
    "y_test_ = X_test[:, 0]\n",
    "\n",
    "X_ = np.vstack((X_train_, X_test_))\n",
    "y_ = np.append(y_train_, y_test_)"
   ]
  },
  {
   "cell_type": "markdown",
   "metadata": {},
   "source": [
    "### Regression models to predict employee's satisfaction level"
   ]
  },
  {
   "cell_type": "code",
   "execution_count": null,
   "metadata": {
    "collapsed": false
   },
   "outputs": [],
   "source": [
    "from sklearn.ensemble import RandomForestRegressor\n",
    "from sklearn.model_selection import KFold,cross_val_score,train_test_split\n",
    "from sklearn.metrics import classification_report\n",
    "from sklearn.linear_model import LinearRegression\n",
    "from sklearn.tree import DecisionTreeRegressor\n",
    "\n",
    "models=[['LR',LinearRegression()],['DT',DecisionTreeRegressor()],['RF',RandomForestRegressor()]]\n",
    "for names,model in models:\n",
    "    results = cross_val_score(model, X_,y_, cv = KFold(n_splits=10,random_state=7),\n",
    "    scoring = 'neg_mean_squared_error')\n",
    "    print names, results.mean()"
   ]
  },
  {
   "cell_type": "markdown",
   "metadata": {},
   "source": [
    "<b> Random Forest</b> performs well"
   ]
  },
  {
   "cell_type": "code",
   "execution_count": null,
   "metadata": {
    "collapsed": false
   },
   "outputs": [],
   "source": [
    "# Test with random test values\n",
    "regres= RandomForestRegressor()\n",
    "regres.fit(X_train_,y_train_)\n",
    "predicted_sat = regres.predict(X_test_)\n",
    "print predicted_sat"
   ]
  },
  {
   "cell_type": "markdown",
   "metadata": {},
   "source": [
    "### Model to give actionable suggestions to HR"
   ]
  },
  {
   "cell_type": "code",
   "execution_count": null,
   "metadata": {
    "collapsed": false
   },
   "outputs": [],
   "source": [
    "import copy\n",
    "import warnings\n",
    "warnings.filterwarnings(\"ignore\", category=DeprecationWarning)\n",
    "\n",
    "def genNewSamples(x, idx, xmin, xmax, num):\n",
    "    \"\"\"\n",
    "    x - actual sample array\n",
    "    idx - idx of sample to be changed\n",
    "    (xmin, xmax) - sample to change\n",
    "    num - number of points to pick from uniform distribution\n",
    "    \"\"\"\n",
    "    x_ = []\n",
    "    for newx in np.arange(xmin, xmax, (xmax-xmin)*1.0/num):\n",
    "        y = copy.deepcopy(x)\n",
    "        y[idx] = newx\n",
    "        x_.append(y)\n",
    "\n",
    "    return np.vstack([[x] for x in x_])\n",
    "\n",
    "# Check how to improve the satisfaction level of employee for those who are leaving\n",
    "def improveSatisfaction(X_test_):\n",
    "    leavingThreshold = 0.9\n",
    "    #for idx, x_test_ in enumerate(X_test_):\n",
    "    # get the probavbilty of leaving\n",
    "    leaving = clf.predict_proba(X_test_)\n",
    "    leaving = leaving[0][1]\n",
    "    suggestions =[]\n",
    "    # if person is leaving, try to improve the satisfaction level\n",
    "    if leaving > leavingThreshold:\n",
    "        print '\\nThe employee will leave ! - ', X_test_\n",
    "        # generate new samples by changing\n",
    "        x_test_rec_ = []\n",
    "        # number of projects\n",
    "        x_test_rec_.append(genNewSamples(X_test_, 2, 2, 8, 6))\n",
    "        # salary\n",
    "        x_test_rec_.append(genNewSamples(X_test_, 8, 0, 3, 3))\n",
    "        # number of hours\n",
    "        '''\n",
    "        s = 'average_montly_hours'\n",
    "        xmin = retention_profile_mean[s] - 3.0*retention_profile_std[s]\n",
    "        xmax = retention_profile_mean[s] + 3.0*retention_profile_std[s]\n",
    "        x_test_rec_.append(genNewSamples(X_test_, 3, xmin, xmax, 10))\n",
    "        '''\n",
    "\n",
    "        # predict the new satisfaction level for updated sample set\n",
    "        x_test_rec_ = np.vstack(x for x in x_test_rec_)\n",
    "        regres= RandomForestRegressor()\n",
    "        regres.fit(X_train_,y_train_)\n",
    "        y_test_rec_ = regres.predict(x_test_rec_[:,1:])\n",
    "\n",
    "        # generate new x_test with this predicted satisfaction level and\n",
    "        # check if the person is leaving\n",
    "        x_test_rec = np.hstack((np.asarray([y_test_rec_]).T, x_test_rec_[:,1:]))\n",
    "        y_test_rec= clf.predict_proba(x_test_rec)\n",
    "        y_test_rec = y_test_rec[:, 0]\n",
    "        print 'The employee will not leave for following conditions:'\n",
    "        for idx, y_test in enumerate(y_test_rec):\n",
    "            if y_test > leavingThreshold:\n",
    "                print x_test_rec[idx]\n",
    "                if x_test_rec[idx][2]>X_test_[2]:\n",
    "                    text = \"Increase the employee's number of projects by : \"\n",
    "                    text+= str(x_test_rec[idx][2]-X_test_[2])\n",
    "                    text+= \" to get satisfaction level of \"+ str(x_test_rec[idx][0]) + \"\\n\"\n",
    "                    suggestions.append(text)\n",
    "                if x_test_rec[idx][8]!=X_test_[8]:\n",
    "                    text = \"Make employee's salary : \" + str(x_test_rec[idx][8])\n",
    "                    text += \" to get satisfaction level of \"+ str(x_test_rec[idx][0])\n",
    "                    suggestions.append(text)\n",
    "    else:\n",
    "        response = \"The employee will not leave! No action required. \"\n",
    "        suggestions.append(response)\n",
    "\n",
    "    return suggestions"
   ]
  },
  {
   "cell_type": "code",
   "execution_count": null,
   "metadata": {
    "collapsed": false
   },
   "outputs": [],
   "source": [
    "test = [   0.44,    0.57,    2,    141,      3,      0,      0,      7,      1  ]\n",
    "\n",
    "print improveSatisfaction(test)"
   ]
  }
 ],
 "metadata": {
  "kernelspec": {
   "name": "python3",
   "language": "python",
   "display_name": "Python 3 (ipykernel)"
  },
  "language_info": {
   "codemirror_mode": {
    "name": "ipython",
    "version": 2
   },
   "file_extension": ".py",
   "mimetype": "text/x-python",
   "name": "python",
   "nbconvert_exporter": "python",
   "pygments_lexer": "ipython2",
   "version": "2.7.13"
  }
 },
 "nbformat": 4,
 "nbformat_minor": 2
}